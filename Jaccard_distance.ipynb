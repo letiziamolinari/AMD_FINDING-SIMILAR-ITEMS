{
  "nbformat": 4,
  "nbformat_minor": 0,
  "metadata": {
    "colab": {
      "name": "Jaccard_distance.ipynb",
      "provenance": [],
      "collapsed_sections": [],
      "authorship_tag": "ABX9TyNDtbTs/rfQXub6gt2htHD+",
      "include_colab_link": true
    },
    "kernelspec": {
      "name": "python3",
      "display_name": "Python 3"
    },
    "language_info": {
      "name": "python"
    }
  },
  "cells": [
    {
      "cell_type": "markdown",
      "metadata": {
        "id": "view-in-github",
        "colab_type": "text"
      },
      "source": [
        "<a href=\"https://colab.research.google.com/github/letiziamolinari/AMD_FINDING-SIMILAR-ITEMS/blob/main/Jaccard_distance.ipynb\" target=\"_parent\"><img src=\"https://colab.research.google.com/assets/colab-badge.svg\" alt=\"Open In Colab\"/></a>"
      ]
    },
    {
      "cell_type": "code",
      "execution_count": null,
      "metadata": {
        "colab": {
          "base_uri": "https://localhost:8080/"
        },
        "id": "CNTRLbmZelY9",
        "outputId": "6026ac92-75b4-4816-ba6f-987416efee72"
      },
      "outputs": [
        {
          "output_type": "stream",
          "name": "stdout",
          "text": [
            "Requirement already satisfied: pyspark in /usr/local/lib/python3.7/dist-packages (3.2.0)\n",
            "Requirement already satisfied: py4j==0.10.9.2 in /usr/local/lib/python3.7/dist-packages (from pyspark) (0.10.9.2)\n"
          ]
        }
      ],
      "source": [
        "! pip install pyspark"
      ]
    },
    {
      "cell_type": "code",
      "source": [
        "from google.colab import files\n",
        "json = files.upload()\n",
        "! mkdir /root/.kaggle\n",
        "! mv kaggle.json /root/.kaggle/kaggle.json\n",
        "! chmod 600 /root/.kaggle/kaggle.json"
      ],
      "metadata": {
        "colab": {
          "resources": {
            "http://localhost:8080/nbextensions/google.colab/files.js": {
              "data": "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",
              "ok": true,
              "headers": [
                [
                  "content-type",
                  "application/javascript"
                ]
              ],
              "status": 200,
              "status_text": ""
            }
          },
          "base_uri": "https://localhost:8080/",
          "height": 90
        },
        "id": "2yfZOyjIe682",
        "outputId": "0deb300f-b437-47b4-b94b-ee1ef59afece"
      },
      "execution_count": null,
      "outputs": [
        {
          "output_type": "display_data",
          "data": {
            "text/html": [
              "\n",
              "     <input type=\"file\" id=\"files-523cee29-decb-412b-ab4e-84c25bb4f975\" name=\"files[]\" multiple disabled\n",
              "        style=\"border:none\" />\n",
              "     <output id=\"result-523cee29-decb-412b-ab4e-84c25bb4f975\">\n",
              "      Upload widget is only available when the cell has been executed in the\n",
              "      current browser session. Please rerun this cell to enable.\n",
              "      </output>\n",
              "      <script src=\"/nbextensions/google.colab/files.js\"></script> "
            ],
            "text/plain": [
              "<IPython.core.display.HTML object>"
            ]
          },
          "metadata": {}
        },
        {
          "output_type": "stream",
          "name": "stdout",
          "text": [
            "Saving kaggle.json to kaggle.json\n",
            "mkdir: cannot create directory ‘/root/.kaggle’: File exists\n"
          ]
        }
      ]
    },
    {
      "cell_type": "code",
      "source": [
        "import kaggle\n",
        "from kaggle.api.kaggle_api_extended import KaggleApi"
      ],
      "metadata": {
        "id": "ECIAZxnYfB8O"
      },
      "execution_count": null,
      "outputs": []
    },
    {
      "cell_type": "code",
      "source": [
        "from pyspark.sql import SparkSession\n",
        "from pyspark import SparkConf\n",
        "from pyspark import SparkContext\n",
        "from pyspark.sql import SQLContext"
      ],
      "metadata": {
        "id": "vARIlhfrfIij"
      },
      "execution_count": null,
      "outputs": []
    },
    {
      "cell_type": "code",
      "source": [
        "conf = SparkConf().setAppName(\"FindingSimilarItems\")\n",
        "conf = (conf.setMaster('local[*]')\n",
        "        .set('spark.executor.memory', '8G')\n",
        "        .set('spark.driver.memory', '45G')\n",
        "        .set('spark.driver.maxResultSize', '0')\n",
        "        .set(\"spark.sql.execution.arrow.enabled\", \"true\"))\n",
        "sc = SparkContext.getOrCreate(conf=conf)\n",
        "spark = SQLContext(sc)"
      ],
      "metadata": {
        "colab": {
          "base_uri": "https://localhost:8080/"
        },
        "id": "svtMooCzfOF5",
        "outputId": "9cd2acb4-c0bb-4e37-f5a6-87c550dbfc68"
      },
      "execution_count": null,
      "outputs": [
        {
          "output_type": "stream",
          "name": "stderr",
          "text": [
            "/usr/local/lib/python3.7/dist-packages/pyspark/sql/context.py:79: FutureWarning: Deprecated in 3.0.0. Use SparkSession.builder.getOrCreate() instead.\n",
            "  FutureWarning\n"
          ]
        }
      ]
    },
    {
      "cell_type": "code",
      "source": [
        "! kaggle datasets download -d stackoverflow/stacksample -f Questions.csv --unzip -o\n",
        "! unzip Questions.csv.zip"
      ],
      "metadata": {
        "colab": {
          "base_uri": "https://localhost:8080/"
        },
        "id": "cuZtQMgKfXLo",
        "outputId": "8b990903-aea2-454b-bb4d-14eb1ab63819"
      },
      "execution_count": null,
      "outputs": [
        {
          "output_type": "stream",
          "name": "stdout",
          "text": [
            "Downloading Questions.csv.zip to /content\n",
            "100% 589M/589M [00:03<00:00, 203MB/s]\n",
            "\n",
            "Archive:  Questions.csv.zip\n",
            "replace Questions.csv? [y]es, [n]o, [A]ll, [N]one, [r]ename: y\n",
            "  inflating: Questions.csv           y\n",
            "y\n",
            "\n"
          ]
        }
      ]
    },
    {
      "cell_type": "code",
      "source": [
        "#dataset visualization\n",
        "df = spark.read\\\n",
        "  .option(\"multiLine\", \"true\")\\\n",
        "  .option(\"header\", \"true\")\\\n",
        "  .option(\"escape\", \"\\\"\")\\\n",
        "  .csv(\"Questions.csv\")\n",
        "  "
      ],
      "metadata": {
        "id": "bdNxvmn0f0tN"
      },
      "execution_count": null,
      "outputs": []
    },
    {
      "cell_type": "code",
      "source": [
        "df.show(15)"
      ],
      "metadata": {
        "colab": {
          "base_uri": "https://localhost:8080/"
        },
        "id": "ks3Yr5ThgQIj",
        "outputId": "717f6318-37e3-4b98-d5c5-600c7da32716"
      },
      "execution_count": null,
      "outputs": [
        {
          "output_type": "stream",
          "name": "stdout",
          "text": [
            "+----+-----------+--------------------+--------------------+-----+--------------------+--------------------+\n",
            "|  Id|OwnerUserId|        CreationDate|          ClosedDate|Score|               Title|                Body|\n",
            "+----+-----------+--------------------+--------------------+-----+--------------------+--------------------+\n",
            "|  80|         26|2008-08-01T13:57:07Z|                  NA|   26|SQLStatement.exec...|<p>I've written a...|\n",
            "|  90|         58|2008-08-01T14:41:24Z|2012-12-26T03:45:49Z|  144|Good branching an...|<p>Are there any ...|\n",
            "| 120|         83|2008-08-01T15:50:08Z|                  NA|   21|   ASP.NET Site Maps|<p>Has anyone got...|\n",
            "| 180|    2089740|2008-08-01T18:42:19Z|                  NA|   53|Function for crea...|<p>This is someth...|\n",
            "| 260|         91|2008-08-01T23:22:08Z|                  NA|   49|Adding scripting ...|<p>I have a littl...|\n",
            "| 330|         63|2008-08-02T02:51:36Z|                  NA|   29|Should I use nest...|<p>I am working o...|\n",
            "| 470|         71|2008-08-02T15:11:47Z|2016-03-26T05:23:29Z|   13|Homegrown consump...|<p>I've been writ...|\n",
            "| 580|         91|2008-08-02T23:30:59Z|                  NA|   21|Deploying SQL Ser...|<p>I wonder how y...|\n",
            "| 650|        143|2008-08-03T11:12:52Z|                  NA|   79|Automatically upd...|<p>I would like t...|\n",
            "| 810|        233|2008-08-03T20:35:01Z|                  NA|    9|Visual Studio Set...|<p>I'm trying to ...|\n",
            "| 930|        245|2008-08-04T00:47:25Z|                  NA|   28|How do I connect ...|<p>What's the sim...|\n",
            "|1010|         67|2008-08-04T03:59:42Z|                  NA|   14|How to get the va...|<p>I need to grab...|\n",
            "|1040|        254|2008-08-04T05:45:22Z|                  NA|   42|How do I delete a...|<p>I'm looking fo...|\n",
            "|1070|        236|2008-08-04T07:34:44Z|                  NA|   17|Process size on UNIX|<p>What is the co...|\n",
            "|1160|        120|2008-08-04T11:37:24Z|                  NA|   36|Use SVN Revision ...|<p>I am using CCN...|\n",
            "+----+-----------+--------------------+--------------------+-----+--------------------+--------------------+\n",
            "only showing top 15 rows\n",
            "\n"
          ]
        }
      ]
    },
    {
      "cell_type": "code",
      "source": [
        "#selectiong only Id & Body columns\n",
        "df = spark.read\\\n",
        "  .option(\"multiLine\", \"true\")\\\n",
        "  .option(\"header\", \"true\")\\\n",
        "  .option(\"escape\", \"\\\"\")\\\n",
        "  .csv(\"Questions.csv\")\\\n",
        "  .select(\"Id\", \"Body\")\n",
        "  \n",
        "\n"
      ],
      "metadata": {
        "id": "G__1jOuEgk0J"
      },
      "execution_count": null,
      "outputs": []
    },
    {
      "cell_type": "code",
      "source": [
        "df.show(15)"
      ],
      "metadata": {
        "colab": {
          "base_uri": "https://localhost:8080/"
        },
        "id": "LbkWPh8nhJZK",
        "outputId": "6d1ddbdb-f067-4876-ff5f-948f0f5264d7"
      },
      "execution_count": null,
      "outputs": [
        {
          "output_type": "stream",
          "name": "stdout",
          "text": [
            "+----+--------------------+\n",
            "|  Id|                Body|\n",
            "+----+--------------------+\n",
            "|  80|<p>I've written a...|\n",
            "|  90|<p>Are there any ...|\n",
            "| 120|<p>Has anyone got...|\n",
            "| 180|<p>This is someth...|\n",
            "| 260|<p>I have a littl...|\n",
            "| 330|<p>I am working o...|\n",
            "| 470|<p>I've been writ...|\n",
            "| 580|<p>I wonder how y...|\n",
            "| 650|<p>I would like t...|\n",
            "| 810|<p>I'm trying to ...|\n",
            "| 930|<p>What's the sim...|\n",
            "|1010|<p>I need to grab...|\n",
            "|1040|<p>I'm looking fo...|\n",
            "|1070|<p>What is the co...|\n",
            "|1160|<p>I am using CCN...|\n",
            "+----+--------------------+\n",
            "only showing top 15 rows\n",
            "\n"
          ]
        }
      ]
    },
    {
      "cell_type": "code",
      "source": [
        "from pyspark.sql.functions import col, lower, regexp_replace\n",
        "from pyspark.ml.feature import RegexTokenizer, StopWordsRemover"
      ],
      "metadata": {
        "id": "FyYkVI7JjY8h"
      },
      "execution_count": null,
      "outputs": []
    },
    {
      "cell_type": "code",
      "source": [
        "def cleaner(s):\n",
        "    s = lower(s)\n",
        "    s = regexp_replace(s, \"^rt \", \"\") \n",
        "    s = regexp_replace(s, \"<p>\", \"\")\n",
        "    s = regexp_replace(s, \"</p>\", \"\") #replace quotes\n",
        "    s = regexp_replace(s, \"(https?\\://)\\S+\", \"\") #deletion of urls\n",
        "    s = regexp_replace(s, \"[^a-zA-Z0-9\\\\s]\", \"\") #deletion of all figures and apostrophes\n",
        "    return s"
      ],
      "metadata": {
        "id": "GaoWR20ahlsV"
      },
      "execution_count": null,
      "outputs": []
    },
    {
      "cell_type": "code",
      "source": [
        "#application and cleaning body \n",
        "cleaned_df = df.select('Id',cleaner(col(\"Body\")).alias(\"Body\"))"
      ],
      "metadata": {
        "id": "5XI0pYzIimtp"
      },
      "execution_count": null,
      "outputs": []
    },
    {
      "cell_type": "code",
      "source": [
        "cleaned_df.show(15)"
      ],
      "metadata": {
        "colab": {
          "base_uri": "https://localhost:8080/"
        },
        "id": "lvdtyFaBTd30",
        "outputId": "1924db52-cae5-4fb8-d26d-dbf5d29180d8"
      },
      "execution_count": null,
      "outputs": [
        {
          "output_type": "stream",
          "name": "stdout",
          "text": [
            "+----+--------------------+\n",
            "|  Id|                Body|\n",
            "+----+--------------------+\n",
            "|  80|ive written a dat...|\n",
            "|  90|are there any rea...|\n",
            "| 120|has anyone got ex...|\n",
            "| 180|this is something...|\n",
            "| 260|i have a little g...|\n",
            "| 330|i am working on a...|\n",
            "| 470|ive been writing ...|\n",
            "| 580|i wonder how you ...|\n",
            "| 650|i would like the ...|\n",
            "| 810|im trying to main...|\n",
            "| 930|whats the simples...|\n",
            "|1010|i need to grab th...|\n",
            "|1040|im looking for a ...|\n",
            "|1070|what is the corre...|\n",
            "|1160|i am using ccnet ...|\n",
            "+----+--------------------+\n",
            "only showing top 15 rows\n",
            "\n"
          ]
        }
      ]
    },
    {
      "cell_type": "code",
      "source": [
        "#removing stopwords\n",
        "tokenizer = RegexTokenizer(inputCol=\"Body\", outputCol=\"tokens\")\n",
        "token_df = tokenizer.transform(cleaned_df)\n",
        "token_df.show(15)"
      ],
      "metadata": {
        "colab": {
          "base_uri": "https://localhost:8080/"
        },
        "id": "bFxAvC8DjrkO",
        "outputId": "728e7701-c4fd-4e0d-9861-26ec0474aa18"
      },
      "execution_count": null,
      "outputs": [
        {
          "output_type": "stream",
          "name": "stdout",
          "text": [
            "+----+--------------------+--------------------+\n",
            "|  Id|                Body|              tokens|\n",
            "+----+--------------------+--------------------+\n",
            "|  80|ive written a dat...|[ive, written, a,...|\n",
            "|  90|are there any rea...|[are, there, any,...|\n",
            "| 120|has anyone got ex...|[has, anyone, got...|\n",
            "| 180|this is something...|[this, is, someth...|\n",
            "| 260|i have a little g...|[i, have, a, litt...|\n",
            "| 330|i am working on a...|[i, am, working, ...|\n",
            "| 470|ive been writing ...|[ive, been, writi...|\n",
            "| 580|i wonder how you ...|[i, wonder, how, ...|\n",
            "| 650|i would like the ...|[i, would, like, ...|\n",
            "| 810|im trying to main...|[im, trying, to, ...|\n",
            "| 930|whats the simples...|[whats, the, simp...|\n",
            "|1010|i need to grab th...|[i, need, to, gra...|\n",
            "|1040|im looking for a ...|[im, looking, for...|\n",
            "|1070|what is the corre...|[what, is, the, c...|\n",
            "|1160|i am using ccnet ...|[i, am, using, cc...|\n",
            "+----+--------------------+--------------------+\n",
            "only showing top 15 rows\n",
            "\n"
          ]
        }
      ]
    },
    {
      "cell_type": "code",
      "source": [
        "stopwrd_remover= StopWordsRemover(inputCol = 'tokens', outputCol = 'removed_stopwrd')\n",
        "final_df= stopwrd_remover.transform(token_df)\n",
        "final_df.show(15)"
      ],
      "metadata": {
        "colab": {
          "base_uri": "https://localhost:8080/"
        },
        "id": "UNMaC_ulkt_I",
        "outputId": "708fe13d-ccf7-46de-bbdd-28f83927fe5c"
      },
      "execution_count": null,
      "outputs": [
        {
          "output_type": "stream",
          "name": "stdout",
          "text": [
            "+----+--------------------+--------------------+--------------------+\n",
            "|  Id|                Body|              tokens|     removed_stopwrd|\n",
            "+----+--------------------+--------------------+--------------------+\n",
            "|  80|ive written a dat...|[ive, written, a,...|[ive, written, da...|\n",
            "|  90|are there any rea...|[are, there, any,...|[really, good, tu...|\n",
            "| 120|has anyone got ex...|[has, anyone, got...|[anyone, got, exp...|\n",
            "| 180|this is something...|[this, is, someth...|[something, ive, ...|\n",
            "| 260|i have a little g...|[i, have, a, litt...|[little, game, wr...|\n",
            "| 330|i am working on a...|[i, am, working, ...|[working, collect...|\n",
            "| 470|ive been writing ...|[ive, been, writi...|[ive, writing, we...|\n",
            "| 580|i wonder how you ...|[i, wonder, how, ...|[wonder, guys, ma...|\n",
            "| 650|i would like the ...|[i, would, like, ...|[like, version, p...|\n",
            "| 810|im trying to main...|[im, trying, to, ...|[im, trying, main...|\n",
            "| 930|whats the simples...|[whats, the, simp...|[whats, simplest,...|\n",
            "|1010|i need to grab th...|[i, need, to, gra...|[need, grab, base...|\n",
            "|1040|im looking for a ...|[im, looking, for...|[im, looking, way...|\n",
            "|1070|what is the corre...|[what, is, the, c...|[correct, way, ge...|\n",
            "|1160|i am using ccnet ...|[i, am, using, cc...|[using, ccnet, sa...|\n",
            "+----+--------------------+--------------------+--------------------+\n",
            "only showing top 15 rows\n",
            "\n"
          ]
        }
      ]
    },
    {
      "cell_type": "code",
      "source": [
        "from pyspark.ml import Pipeline\n",
        "from pyspark.ml.feature import HashingTF\n",
        "from pyspark.ml.feature import MinHashLSH"
      ],
      "metadata": {
        "id": "OydtZlRK5Tod"
      },
      "execution_count": null,
      "outputs": []
    },
    {
      "cell_type": "code",
      "source": [
        "#HASHING TF\n",
        "\n",
        "hashingTF = HashingTF(inputCol=\"removed_stopwrd\", outputCol=\"TF\", numFeatures=1024)\n",
        "hashed_df = hashingTF.transform(final_df)"
      ],
      "metadata": {
        "id": "e5a4OUNj9-Dg"
      },
      "execution_count": null,
      "outputs": []
    },
    {
      "cell_type": "code",
      "source": [
        "#MINHASH\n",
        "mh = MinHashLSH(inputCol=\"TF\", outputCol=\"hash\", seed = 3)\n",
        "model = mh.fit(hashed_df)\n",
        "hash = model.transform(hashed_df)"
      ],
      "metadata": {
        "id": "1OaK0ZW0-q0o"
      },
      "execution_count": null,
      "outputs": []
    },
    {
      "cell_type": "code",
      "source": [
        "hash.show(15)"
      ],
      "metadata": {
        "colab": {
          "base_uri": "https://localhost:8080/"
        },
        "id": "Eg4PBss-_A22",
        "outputId": "7ed37ef7-4200-4d56-979a-2f825d374dff"
      },
      "execution_count": null,
      "outputs": [
        {
          "output_type": "stream",
          "name": "stdout",
          "text": [
            "+----+--------------------+--------------------+--------------------+--------------------+----------------+\n",
            "|  Id|                Body|              tokens|     removed_stopwrd|                  TF|            hash|\n",
            "+----+--------------------+--------------------+--------------------+--------------------+----------------+\n",
            "|  80|ive written a dat...|[ive, written, a,...|[ive, written, da...|(1024,[3,6,11,24,...|   [[2078511.0]]|\n",
            "|  90|are there any rea...|[are, there, any,...|[really, good, tu...|(1024,[24,65,80,4...|  [[5.527494E7]]|\n",
            "| 120|has anyone got ex...|[has, anyone, got...|[anyone, got, exp...|(1024,[19,39,88,9...| [[3.0469636E7]]|\n",
            "| 180|this is something...|[this, is, someth...|[something, ive, ...|(1024,[9,17,105,1...|   [[2703620.0]]|\n",
            "| 260|i have a little g...|[i, have, a, litt...|[little, game, wr...|(1024,[24,43,53,5...| [[8.2415847E7]]|\n",
            "| 330|i am working on a...|[i, am, working, ...|[working, collect...|(1024,[79,108,117...|   [[2703620.0]]|\n",
            "| 470|ive been writing ...|[ive, been, writi...|[ive, writing, we...|(1024,[29,58,70,1...| [[4.9813792E7]]|\n",
            "| 580|i wonder how you ...|[i, wonder, how, ...|[wonder, guys, ma...|(1024,[0,9,24,35,...| [[1.6586628E7]]|\n",
            "| 650|i would like the ...|[i, would, like, ...|[like, version, p...|(1024,[3,4,23,53,...| [[6.0110979E7]]|\n",
            "| 810|im trying to main...|[im, trying, to, ...|[im, trying, main...|(1024,[47,53,71,8...| [[2.2047776E7]]|\n",
            "| 930|whats the simples...|[whats, the, simp...|[whats, simplest,...|(1024,[58,153,168...| [[8.2415847E7]]|\n",
            "|1010|i need to grab th...|[i, need, to, gra...|[need, grab, base...|(1024,[70,110,119...| [[5.8860761E7]]|\n",
            "|1040|im looking for a ...|[im, looking, for...|[im, looking, way...|(1024,[31,81,88,1...|[[1.59167362E8]]|\n",
            "|1070|what is the corre...|[what, is, the, c...|[correct, way, ge...|(1024,[271,353,37...| [[2.3404355E8]]|\n",
            "|1160|i am using ccnet ...|[i, am, using, cc...|[using, ccnet, sa...|(1024,[3,17,65,71...|[[1.10806972E8]]|\n",
            "+----+--------------------+--------------------+--------------------+--------------------+----------------+\n",
            "only showing top 15 rows\n",
            "\n"
          ]
        }
      ]
    },
    {
      "cell_type": "code",
      "source": [
        "from pyspark.sql.functions import size\n",
        "#removal of empty rows and putting a limit on the maximum number of rows\n",
        "sample= hash.where((size(col(\"removed_stopwrd\")) >= 1)).limit(30000)"
      ],
      "metadata": {
        "id": "05RJohpK_JB5"
      },
      "execution_count": null,
      "outputs": []
    },
    {
      "cell_type": "code",
      "source": [
        "#approximate similarity join\n",
        "match = model.approxSimilarityJoin( sample, sample, 0.6, \"JaccardDistance\")\\\n",
        ".select(col('datasetA.id').alias('id_A'),\n",
        "col('datasetB.id').alias('id_B'),\n",
        "col(\"JaccardDistance\")).filter('id_A < id_B').show()"
      ],
      "metadata": {
        "colab": {
          "base_uri": "https://localhost:8080/"
        },
        "id": "y2iWyz_SAoz5",
        "outputId": "71aef499-c105-43aa-e222-409eb2dec3f8"
      },
      "execution_count": null,
      "outputs": [
        {
          "output_type": "stream",
          "name": "stderr",
          "text": [
            "/usr/local/lib/python3.7/dist-packages/pyspark/sql/context.py:127: FutureWarning: Deprecated in 3.0.0. Use SparkSession.builder.getOrCreate() instead.\n",
            "  FutureWarning\n"
          ]
        },
        {
          "output_type": "stream",
          "name": "stdout",
          "text": [
            "+-------+-------+------------------+\n",
            "|   id_A|   id_B|   JaccardDistance|\n",
            "+-------+-------+------------------+\n",
            "| 103560|1503630|0.5529411764705883|\n",
            "| 252660| 920670|               0.5|\n",
            "| 270440| 272190|0.5636363636363637|\n",
            "| 503310| 835280|             0.375|\n",
            "| 612820| 634630|              0.48|\n",
            "| 897770| 905410|0.4871794871794872|\n",
            "|1041520|1042370|               0.5|\n",
            "|1071630| 865480|0.5769230769230769|\n",
            "|1082310|1276960|0.5642458100558659|\n",
            "|1125640| 198460|0.5714285714285714|\n",
            "|1406050| 936820|0.5906735751295337|\n",
            "+-------+-------+------------------+\n",
            "\n"
          ]
        }
      ]
    },
    {
      "cell_type": "code",
      "source": [
        "cleaned_df.where((col(\"id\") == 503310) | (col(\"id\") == 835280)).show(truncate=False)"
      ],
      "metadata": {
        "colab": {
          "base_uri": "https://localhost:8080/"
        },
        "id": "eftHupVvJ9Y5",
        "outputId": "40c557f6-ce4e-4ba4-e145-2a75c0d5cbfb"
      },
      "execution_count": null,
      "outputs": [
        {
          "output_type": "stream",
          "name": "stdout",
          "text": [
            "+------+-------------------------------------------------------------------+\n",
            "|Id    |Body                                                               |\n",
            "+------+-------------------------------------------------------------------+\n",
            "|503310|is it possible to map an enum as a string using fluent nhibernate\\n|\n",
            "|835280|its possible to map a view using fluent nhibernate if so how\\n     |\n",
            "+------+-------------------------------------------------------------------+\n",
            "\n"
          ]
        }
      ]
    },
    {
      "cell_type": "code",
      "source": [
        "cleaned_df.where((col(\"id\") == 612820) | (col(\"id\") == 634630)).show(truncate=False)"
      ],
      "metadata": {
        "colab": {
          "base_uri": "https://localhost:8080/"
        },
        "id": "xrJHQsA3KllY",
        "outputId": "ddce9ae5-ad0c-48ff-99e2-13ccb7145c82"
      },
      "execution_count": null,
      "outputs": [
        {
          "output_type": "stream",
          "name": "stdout",
          "text": [
            "+------+------------------------------------------------------------------------------------------------------------------------------------------------------------------------------------------------------------------------------------------------------------------------------------------------------------------------------------------------------------------------------------------------------------------------------------------------------------------------------------------------------------------------------------------------------------------------------------------------------------------------------------------------------------------------------------------------------------------------------------------------------------------------------------------------------------------------------------------------------------------------------------------------------------------------------------------------------------------------------------------------------------------------------------------------------------------------------------------------------------------------------------------------------------------------------------------------------------------------------------------------------------------------------------------------------------------------------------------------------------------------------------------------------------------------------------------------------------------------------------------------------------------------------------------------------------------------------------------------------------------------------------------------------------------------------------------------------------------------------------------------------------------------------------------------------------------------------------------------------------+\n",
            "|Id    |Body                                                                                                                                                                                                                                                                                                                                                                                                                                                                                                                                                                                                                                                                                                                                                                                                                                                                                                                                                                                                                                                                                                                                                                                                                                                                                                                                                                                                                                                                                                                                                                                                                                                                                                                                                                                                                                                        |\n",
            "+------+------------------------------------------------------------------------------------------------------------------------------------------------------------------------------------------------------------------------------------------------------------------------------------------------------------------------------------------------------------------------------------------------------------------------------------------------------------------------------------------------------------------------------------------------------------------------------------------------------------------------------------------------------------------------------------------------------------------------------------------------------------------------------------------------------------------------------------------------------------------------------------------------------------------------------------------------------------------------------------------------------------------------------------------------------------------------------------------------------------------------------------------------------------------------------------------------------------------------------------------------------------------------------------------------------------------------------------------------------------------------------------------------------------------------------------------------------------------------------------------------------------------------------------------------------------------------------------------------------------------------------------------------------------------------------------------------------------------------------------------------------------------------------------------------------------------------------------------------------------+\n",
            "|612820|i have a property grid that helps me manage all of the controls on a form these controls are for designertype folks so im not really worried that much about the user interface until someone selects multiple objects\\n\\ni have a uitypeeditor for the bottomdiameter property on these common objects it keeps track of units meters vs feet and does some nice things onthefly however when someone selects two or three common objects bottomdiameter is blank even though it evaluates to the same text string\\n\\nthe reason i think that it is blank is that it is actually three separate objdiameter objects how can i tell the property grid to behave like all of the other properties and show the value if it evaluates to the same string\\n\\nupdate for example the anchor property has a text output of top right but when you pull it down it is an object yet when you select five objects on your form that all have the same anchor setting you can still see the string top right in the property grid\\n                                                                                                                                                                                                                                                                                                                                                                                                                                                                                                                                                                                                                                                                                                                                                                                                                                 |\n",
            "|634630|i have a property grid that helps me manage all of the controls on a form these controls are for designertype folks so im not really worried that much about the user interface until someone selects multiple objects\\n\\ni have a uitypeeditor for the effectivediameter property on these common objects it keeps track of units meters vs feet and does some nice things onthefly however when someone selects two or three common objects effectivediameter is blank even though it evaluates to the same text string\\n\\nfor example in most controls microsoft has the anchor property that has a text output of top right when you pull it down it is an object with a nice uitypeeditor yet when you select five objects on your form that all have the same anchor setting you can still see the string top right in the property grid\\n\\ncode\\n\\nprecode ltsummarygt\\n the default containing class for all unitmanagement conversion classes\\n ltsummarygt\\n\\n serializable\\n editorattributetypeofumconversiontypeeditor typeofuitypeeditor\\n typeconvertertypeofumconversiontypeconverter\\n\\npublic class umconversion\\n\\n    \\n\\n\\n\\npublic class umconversiontypeeditor  uitypeeditor\\n\\n    \\n\\n\\n\\n\\n now in my designer class i have \\nprivate double effectivediameter  get set \\n\\ndisplaynameeffective diameter\\npublic virtual umconversion effectivediameter\\n\\n    get\\n    \\n            umconversion ret  new umconversion effectivediameter\\n            retmeasureinsi  si\\n            return ret\\n        \\n        set\\n        \\n           effectivediameter  valueimperialunits\\n        \\n    \\n\\ncodepre\\n\\ncode\\n\\nif i select several of my custom objects  all with the same effective diameter  how do i get effectivediameter to display in the propertygrid like anchor does right now that field is always blank\\n|\n",
            "+------+------------------------------------------------------------------------------------------------------------------------------------------------------------------------------------------------------------------------------------------------------------------------------------------------------------------------------------------------------------------------------------------------------------------------------------------------------------------------------------------------------------------------------------------------------------------------------------------------------------------------------------------------------------------------------------------------------------------------------------------------------------------------------------------------------------------------------------------------------------------------------------------------------------------------------------------------------------------------------------------------------------------------------------------------------------------------------------------------------------------------------------------------------------------------------------------------------------------------------------------------------------------------------------------------------------------------------------------------------------------------------------------------------------------------------------------------------------------------------------------------------------------------------------------------------------------------------------------------------------------------------------------------------------------------------------------------------------------------------------------------------------------------------------------------------------------------------------------------------------+\n",
            "\n"
          ]
        }
      ]
    },
    {
      "cell_type": "code",
      "source": [
        "cleaned_df.where((col(\"id\") == 897770) | (col(\"id\") == 905410)).show(truncate=False)"
      ],
      "metadata": {
        "colab": {
          "base_uri": "https://localhost:8080/"
        },
        "id": "JyRRJbQUK4Hk",
        "outputId": "6e5cd9c7-7acb-4821-8ecb-a12b9670bfdc"
      },
      "execution_count": null,
      "outputs": [
        {
          "output_type": "stream",
          "name": "stdout",
          "text": [
            "+------+-------------------------------------------------------------------------------------------------------------------------------------------------------------------------------------------------------------------------------------------------------------------------------------------------------------------------------------------------------------------------------------------------------------------------------------------------------------------------------------------------------------------------------------------------------------------------------------------------------------------------------------------------------------------------------------------------------------------------------------------------------------------------------------------------------------------------------------------------------------------------------------------------------------------------------------------------------------------------------------------------------------------------------------------------------------------------------------------------------------------------------------------------------------------------------------------------------------------------------------------------------------------------------------------------------------------------+\n",
            "|Id    |Body                                                                                                                                                                                                                                                                                                                                                                                                                                                                                                                                                                                                                                                                                                                                                                                                                                                                                                                                                                                                                                                                                                                                                                                                                                                                                                                     |\n",
            "+------+-------------------------------------------------------------------------------------------------------------------------------------------------------------------------------------------------------------------------------------------------------------------------------------------------------------------------------------------------------------------------------------------------------------------------------------------------------------------------------------------------------------------------------------------------------------------------------------------------------------------------------------------------------------------------------------------------------------------------------------------------------------------------------------------------------------------------------------------------------------------------------------------------------------------------------------------------------------------------------------------------------------------------------------------------------------------------------------------------------------------------------------------------------------------------------------------------------------------------------------------------------------------------------------------------------------------------+\n",
            "|897770|i am trying to get a very small desktop app built  something that can be downloaded by people very quickly i am trying to decide whether i should build it in net or java i know java will be cross platform but i want to know if a lot of windows users do not have jre installed on their computers in which case i am told they will need to download some 15mb of jre software to make this app run whereas net will automatically be preinstalled in most windows machines does anyone know what percentage of windows users do not have jre on their machines and what  age of windows users have net preinstalled \\n\\nps the decision for us is if a large number of windows users have jre then go for java if not then go for net \\n                                                                                                                                                                                                                                                                                                                                                                                                                                                                                                                                                                           |\n",
            "|905410|i had posted a question a few days ago and thanks a lot to those who already responded i am reposting the question because it seemed like i needed to clarify our requirements so here it goes in more detail\\n\\ni am trying to get a very small desktop app built  something that can be downloaded by people very quickly i am trying to decide whether i shd build it in net or java i have two objectives 1 very quick download 2 targeting the largest set of users in that order\\n\\ni know java will be cross platform but if a lot of windows users do not have jre installed on their computers i am told they will need to download some 15mb of jre software to make this app run whereas net could be preinstalled in most windows machines\\n\\nas mentioned a small very quickly downloadable app is more important to me than a cross platform app so i want to go with the platform that is preinstalled in the highest number of computers so that my users just download my app without also requiring an additional download of the platform itself jre or net from that point of view which platform is preinstalled in more machines java or net\\n\\ndoes anyone know what percentage of windows users do not have jre on their machines and what age of windows users have net preinstalled\\n\\nthanks\\n|\n",
            "+------+-------------------------------------------------------------------------------------------------------------------------------------------------------------------------------------------------------------------------------------------------------------------------------------------------------------------------------------------------------------------------------------------------------------------------------------------------------------------------------------------------------------------------------------------------------------------------------------------------------------------------------------------------------------------------------------------------------------------------------------------------------------------------------------------------------------------------------------------------------------------------------------------------------------------------------------------------------------------------------------------------------------------------------------------------------------------------------------------------------------------------------------------------------------------------------------------------------------------------------------------------------------------------------------------------------------------------+\n",
            "\n"
          ]
        }
      ]
    }
  ]
}